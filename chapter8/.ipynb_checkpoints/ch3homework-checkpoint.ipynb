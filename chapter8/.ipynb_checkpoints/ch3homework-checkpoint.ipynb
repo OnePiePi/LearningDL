{
 "cells": [
  {
   "cell_type": "code",
   "execution_count": 4,
   "id": "358057e115fcd2de",
   "metadata": {
    "ExecuteTime": {
     "end_time": "2024-03-25T02:19:12.432041900Z",
     "start_time": "2024-03-25T02:19:11.856195600Z"
    },
    "collapsed": false
   },
   "outputs": [],
   "source": [
    "import csv\n",
    "import numpy as np\n",
    "import matplotlib as mpl\n",
    "import matplotlib.pyplot as plt\n",
    "import pandas as pd\n",
    "from sklearn.model_selection import train_test_split\n",
    "from sklearn.linear_model import LinearRegression\n",
    "import os\n",
    "from pprint import pprint"
   ]
  },
  {
   "cell_type": "code",
   "execution_count": 6,
   "id": "d5445cde01eb2586",
   "metadata": {
    "ExecuteTime": {
     "end_time": "2024-03-25T02:53:45.811859400Z",
     "start_time": "2024-03-25T02:53:45.804598200Z"
    },
    "collapsed": false
   },
   "outputs": [],
   "source": [
    "test = {'A':1, 'B':2, 'C':3}"
   ]
  },
  {
   "cell_type": "code",
   "execution_count": 7,
   "id": "f698cf3f731a13ed",
   "metadata": {
    "ExecuteTime": {
     "end_time": "2024-03-25T02:53:49.378853200Z",
     "start_time": "2024-03-25T02:53:49.363995400Z"
    },
    "collapsed": false
   },
   "outputs": [
    {
     "data": {
      "text/plain": [
       "dict"
      ]
     },
     "execution_count": 7,
     "metadata": {},
     "output_type": "execute_result"
    }
   ],
   "source": [
    "type(test)"
   ]
  },
  {
   "cell_type": "code",
   "execution_count": null,
   "id": "ca44c9dbb4ae0e1",
   "metadata": {
    "collapsed": false,
    "is_executing": true
   },
   "outputs": [],
   "source": [
    "pd.read_csv('ch3classificationex1.txt')"
   ]
  },
  {
   "cell_type": "code",
   "execution_count": null,
   "id": "ba65c0bf68130436",
   "metadata": {
    "collapsed": false
   },
   "outputs": [],
   "source": []
  }
 ],
 "metadata": {
  "kernelspec": {
   "display_name": "Python 3",
   "language": "python",
   "name": "python3"
  },
  "language_info": {
   "codemirror_mode": {
    "name": "ipython",
    "version": 2
   },
   "file_extension": ".py",
   "mimetype": "text/x-python",
   "name": "python",
   "nbconvert_exporter": "python",
   "pygments_lexer": "ipython2",
   "version": "2.7.6"
  }
 },
 "nbformat": 4,
 "nbformat_minor": 5
}
