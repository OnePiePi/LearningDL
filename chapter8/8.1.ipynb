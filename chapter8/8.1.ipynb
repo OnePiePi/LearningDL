{
 "cells": [
  {
   "cell_type": "code",
   "execution_count": null,
   "id": "e04bccc44427710c",
   "metadata": {
    "collapsed": false,
    "is_executing": true
   },
   "outputs": [],
   "source": [
    "%matplotlib inline\n",
    "import torch\n",
    "from torch import nn\n",
    "from d2l import torch as d2l\n",
    "\n",
    "T = 1000  # 总共产生1000个点\n",
    "time = torch.arange(1, T + 1, dtype=torch.float32)\n",
    "x = torch.sin(0.01 * time) + torch.normal(0, 0.2, (T,))\n",
    "d2l.plot(time, [x], 'time', 'x', xlim=[1, 1000], figsize=(6, 3))"
   ]
  },
  {
   "cell_type": "code",
   "execution_count": 5,
   "id": "ce0ba354abdae38f",
   "metadata": {
    "ExecuteTime": {
     "end_time": "2024-03-15T06:51:12.107470600Z",
     "start_time": "2024-03-15T06:51:12.097379300Z"
    },
    "collapsed": false
   },
   "outputs": [],
   "source": [
    "tau = 4\n",
    "features = torch.zeros((T - tau, tau))\n",
    "for i in range(tau):\n",
    "    features[:, i] = x[i: T - tau + i]\n",
    "labels = x[tau:].reshape((-1, 1))\n",
    "\n",
    "batch_size, n_train = 16, 600\n",
    "# 只有前n_train个样本用于训练\n",
    "train_iter = d2l.load_array((features[:n_train], labels[:n_train]),\n",
    "                            batch_size, is_train=True)"
   ]
  },
  {
   "cell_type": "code",
   "execution_count": 6,
   "id": "5a88fdd0-e842-45d8-a0f6-523ad640ec18",
   "metadata": {
    "ExecuteTime": {
     "end_time": "2024-03-15T06:51:14.203599900Z",
     "start_time": "2024-03-15T06:51:14.195971100Z"
    }
   },
   "outputs": [],
   "source": [
    "# 初始化网络权重的函数\n",
    "def init_weights(m):\n",
    "    if type(m) == nn.Linear:\n",
    "        nn.init.xavier_uniform_(m.weight)\n",
    "\n",
    "# 一个简单的多层感知机\n",
    "def get_net():\n",
    "    net = nn.Sequential(nn.Linear(4, 10),\n",
    "                        nn.ReLU(),\n",
    "                        nn.Linear(10, 1))\n",
    "    net.apply(init_weights)\n",
    "    return net\n",
    "\n",
    "# 平方损失。注意：MSELoss计算平方误差时不带系数1/2\n",
    "loss = nn.MSELoss(reduction='none')"
   ]
  },
  {
   "cell_type": "code",
   "execution_count": 12,
   "id": "ef79e25804bece55",
   "metadata": {
    "ExecuteTime": {
     "end_time": "2024-03-15T07:04:16.612318800Z",
     "start_time": "2024-03-15T07:04:16.607315100Z"
    },
    "collapsed": false
   },
   "outputs": [],
   "source": [
    "net = get_net()"
   ]
  },
  {
   "cell_type": "code",
   "execution_count": 19,
   "id": "6e822059d037c7fe",
   "metadata": {
    "ExecuteTime": {
     "end_time": "2024-03-15T07:07:46.538958900Z",
     "start_time": "2024-03-15T07:07:46.488296600Z"
    },
    "collapsed": false
   },
   "outputs": [
    {
     "name": "stdout",
     "output_type": "stream",
     "text": [
      "find! <class 'torch.nn.modules.linear.Linear'>\n",
      "find! <class 'torch.nn.modules.activation.ReLU'>\n",
      "find! <class 'torch.nn.modules.linear.Linear'>\n",
      "find! <class 'torch.nn.modules.container.Sequential'>\n"
     ]
    },
    {
     "data": {
      "text/plain": [
       "Sequential(\n",
       "  (0): Linear(in_features=4, out_features=10, bias=True)\n",
       "  (1): ReLU()\n",
       "  (2): Linear(in_features=10, out_features=1, bias=True)\n",
       ")"
      ]
     },
     "execution_count": 19,
     "metadata": {},
     "output_type": "execute_result"
    }
   ],
   "source": [
    "def fuck_off(m):\n",
    "    print(\"find!\", type(m))\n",
    "    return\n",
    "\n",
    "net.apply(fuck_off)"
   ]
  }
 ],
 "metadata": {
  "kernelspec": {
   "display_name": "Python 3 (ipykernel)",
   "language": "python",
   "name": "python3"
  },
  "language_info": {
   "codemirror_mode": {
    "name": "ipython",
    "version": 3
   },
   "file_extension": ".py",
   "mimetype": "text/x-python",
   "name": "python",
   "nbconvert_exporter": "python",
   "pygments_lexer": "ipython3",
   "version": "3.10.8"
  }
 },
 "nbformat": 4,
 "nbformat_minor": 5
}
