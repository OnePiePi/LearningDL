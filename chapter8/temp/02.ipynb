{
 "cells": [
  {
   "cell_type": "code",
   "execution_count": 23,
   "id": "9a596c100fe3457d",
   "metadata": {
    "ExecuteTime": {
     "end_time": "2024-04-01T06:47:37.769405700Z",
     "start_time": "2024-04-01T06:47:37.762814500Z"
    },
    "collapsed": false
   },
   "outputs": [],
   "source": [
    "import pandas as pd\n",
    "from sklearn.model_selection import train_test_split\n",
    "from sklearn.tree import DecisionTreeClassifier\n",
    "from sklearn.ensemble import RandomForestClassifier\n",
    "from sklearn.metrics import accuracy_score\n",
    "\n",
    "# Load the dataset\n",
    "data = pd.read_csv('wine_data.csv')"
   ]
  },
  {
   "cell_type": "code",
   "execution_count": 24,
   "id": "11b9bf4775d6e627",
   "metadata": {
    "ExecuteTime": {
     "end_time": "2024-04-01T06:47:37.951383600Z",
     "start_time": "2024-04-01T06:47:37.947610300Z"
    },
    "collapsed": false
   },
   "outputs": [],
   "source": [
    "# Assuming the first 12 columns are features and the last column is the label\n",
    "# 感觉实际上是13列数据和最后一列的分类结果（也就是标签）\n",
    "X = data.iloc[:, :-1]\n",
    "y = data.iloc[:, -1]\n",
    "\n",
    "# Split the data into training and test sets\n",
    "X_train, X_test, y_train, y_test = train_test_split(X, y, test_size=0.2, random_state=42)"
   ]
  },
  {
   "cell_type": "code",
   "execution_count": 25,
   "id": "cc1de7e011cd8d6e",
   "metadata": {
    "ExecuteTime": {
     "end_time": "2024-04-01T06:47:38.216839600Z",
     "start_time": "2024-04-01T06:47:38.087300400Z"
    },
    "collapsed": false
   },
   "outputs": [
    {
     "name": "stdout",
     "output_type": "stream",
     "text": [
      "Decision Tree Accuracy: 88.89%\n",
      "Random Forest Accuracy: 97.22%\n"
     ]
    }
   ],
   "source": [
    "# Initialize and train a Decision Tree classifier\n",
    "dt_classifier = DecisionTreeClassifier(random_state=42)\n",
    "dt_classifier.fit(X_train, y_train)\n",
    "# Predict and calculate accuracy\n",
    "dt_predictions = dt_classifier.predict(X_test)\n",
    "dt_accuracy = accuracy_score(y_test, dt_predictions)\n",
    "\n",
    "# Initialize and train a Random Forest classifier\n",
    "rf_classifier = RandomForestClassifier(random_state=42)\n",
    "rf_classifier.fit(X_train, y_train)\n",
    "# Predict and calculate accuracy\n",
    "rf_predictions = rf_classifier.predict(X_test)\n",
    "rf_accuracy = accuracy_score(y_test, rf_predictions)\n",
    "\n",
    "# Print the accuracy of both models\n",
    "print(f'Decision Tree Accuracy: {dt_accuracy * 100:.2f}%')\n",
    "print(f'Random Forest Accuracy: {rf_accuracy * 100:.2f}%')"
   ]
  },
  {
   "cell_type": "code",
   "execution_count": null,
   "id": "5e57cc868fcb34de",
   "metadata": {
    "collapsed": false
   },
   "outputs": [],
   "source": []
  }
 ],
 "metadata": {
  "kernelspec": {
   "display_name": "Python 3",
   "language": "python",
   "name": "python3"
  },
  "language_info": {
   "codemirror_mode": {
    "name": "ipython",
    "version": 2
   },
   "file_extension": ".py",
   "mimetype": "text/x-python",
   "name": "python",
   "nbconvert_exporter": "python",
   "pygments_lexer": "ipython2",
   "version": "2.7.6"
  }
 },
 "nbformat": 4,
 "nbformat_minor": 5
}
